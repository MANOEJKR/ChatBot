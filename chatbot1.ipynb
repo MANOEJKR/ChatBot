{
  "nbformat": 4,
  "nbformat_minor": 0,
  "metadata": {
    "colab": {
      "provenance": [],
      "authorship_tag": "ABX9TyPmtFmJ6nMh2/FmkphQ8/MA",
      "include_colab_link": true
    },
    "kernelspec": {
      "name": "python3",
      "display_name": "Python 3"
    },
    "language_info": {
      "name": "python"
    }
  },
  "cells": [
    {
      "cell_type": "markdown",
      "metadata": {
        "id": "view-in-github",
        "colab_type": "text"
      },
      "source": [
        "<a href=\"https://colab.research.google.com/github/MANOEJKR/ChatBot/blob/main/chatbot1.ipynb\" target=\"_parent\"><img src=\"https://colab.research.google.com/assets/colab-badge.svg\" alt=\"Open In Colab\"/></a>"
      ]
    },
    {
      "cell_type": "markdown",
      "source": [
        "IMPORT THE STUFF U REQUERED TO BULID THE CHATBOX MANOJ :KR"
      ],
      "metadata": {
        "id": "b3AE0KEh2Cih"
      }
    },
    {
      "cell_type": "code",
      "execution_count": null,
      "metadata": {
        "id": "ZKMdDOAH1yo7"
      },
      "outputs": [],
      "source": [
        "import numpy as np\n",
        "import nltk  \n",
        "import string\n",
        "import random"
      ]
    },
    {
      "cell_type": "markdown",
      "source": [
        "Importing and reading the corpus"
      ],
      "metadata": {
        "id": "XlrKAxF_vSuU"
      }
    },
    {
      "cell_type": "code",
      "source": [
        "f=open('chatbot.txt','r',errors = 'ignore')\n",
        "raw_doc=f.read()\n",
        "raw_doc =raw_doc.lower()  #coverts text to lowercase\n",
        "nltk.download('punkt')   #using the Punkt tokenizer\n",
        "nltk.download('wordnet')  #using the wordnet dictonary\n",
        "sent_tokens = nltk.sent_tokenize(raw_doc)  #converts doc to list of sentences\n",
        "word_tokens = nltk.word_tokenize(raw_doc)  #converts doc to list of word"
      ],
      "metadata": {
        "colab": {
          "base_uri": "https://localhost:8080/"
        },
        "id": "NtMBrEHtvYAU",
        "outputId": "ff0a4a29-52b1-454b-a501-62c1b253e70e"
      },
      "execution_count": null,
      "outputs": [
        {
          "output_type": "stream",
          "name": "stderr",
          "text": [
            "[nltk_data] Downloading package punkt to /root/nltk_data...\n",
            "[nltk_data]   Unzipping tokenizers/punkt.zip.\n",
            "[nltk_data] Downloading package wordnet to /root/nltk_data...\n"
          ]
        }
      ]
    },
    {
      "cell_type": "markdown",
      "source": [
        "Example of sentance tokens"
      ],
      "metadata": {
        "id": "j9mvsFZUxA-e"
      }
    },
    {
      "cell_type": "code",
      "source": [
        "sent_tokens[:2]"
      ],
      "metadata": {
        "colab": {
          "base_uri": "https://localhost:8080/"
        },
        "id": "lDo9qE8FxKIB",
        "outputId": "d9ce4b5f-9699-4ad6-e034-480460255547"
      },
      "execution_count": null,
      "outputs": [
        {
          "output_type": "execute_result",
          "data": {
            "text/plain": [
              "['data science is an interdisciplinary academic field [1] that uses statistics, scientific computing, scientific methods, processes, algorithms and systems to extract or extrapolate knowledge and insights from noisy, structured, and unstructured data.',\n",
              " '[2]\\n\\ndata science also integrates domain knowledge from the underlying application domain (e.g., natural sciences, information technology, and medicine).']"
            ]
          },
          "metadata": {},
          "execution_count": 4
        }
      ]
    },
    {
      "cell_type": "markdown",
      "source": [
        "Example of word tokens"
      ],
      "metadata": {
        "id": "fbTYVFjexUTr"
      }
    },
    {
      "cell_type": "code",
      "source": [
        "word_tokens[:2]"
      ],
      "metadata": {
        "colab": {
          "base_uri": "https://localhost:8080/"
        },
        "id": "QKz5eedUxX6c",
        "outputId": "c549f958-a8ed-4064-9bd5-8ff948677dc4"
      },
      "execution_count": null,
      "outputs": [
        {
          "output_type": "execute_result",
          "data": {
            "text/plain": [
              "['data', 'science']"
            ]
          },
          "metadata": {},
          "execution_count": 5
        }
      ]
    },
    {
      "cell_type": "markdown",
      "source": [
        "Text Preprocessing"
      ],
      "metadata": {
        "id": "nuEhlRjLxe_B"
      }
    },
    {
      "cell_type": "code",
      "source": [
        "lemmer = nltk.stem.WordNetLemmatizer()\n",
        "#wordnet is a semantically-oriented dictionary of english included in NLTK.\n",
        "def LemTokens(tokens):\n",
        "    return [lemmer.lemmatize(token) for token in tokens]\n",
        "remove_punct_dict = dict((ord(punct), None) for punct in string.punctuation)\n",
        "def LemNormalize(text):\n",
        "    return LemTokens(nltk.word_tokenize(text.lower().translate(remove_punct_dict)))"
      ],
      "metadata": {
        "id": "_y68LECHxlPL"
      },
      "execution_count": null,
      "outputs": []
    },
    {
      "cell_type": "markdown",
      "source": [
        "Defining the greeting function"
      ],
      "metadata": {
        "id": "tJeGLlL_yyOP"
      }
    },
    {
      "cell_type": "code",
      "source": [
        "GREET_INPUTS = (\"hello\" , \"hi\" , \"greetings\" , \"sup\" , \"what's up\" , \"hey\")\n",
        "GREET_RESPONSES = [\"hi\" , \"hey\" , \"hi there\" , \"hello\" , \"I am glad! You are talking to me\"]\n",
        "def greet(sentence):\n",
        "\n",
        "    for word in sentence.split():\n",
        "        if word.lower() in GREET_INPUTS:\n",
        "             return random.choice(GREET_RESPONSES)"
      ],
      "metadata": {
        "id": "fmbXdWiezNZl"
      },
      "execution_count": null,
      "outputs": []
    },
    {
      "cell_type": "markdown",
      "source": [
        "Response generation"
      ],
      "metadata": {
        "id": "CuxbPdbY0RdD"
      }
    },
    {
      "cell_type": "code",
      "source": [
        "from sklearn.feature_extraction.text import TfidfVectorizer\n",
        "from sklearn.metrics.pairwise import cosine_similarity"
      ],
      "metadata": {
        "id": "e8uIj87t0W-D"
      },
      "execution_count": null,
      "outputs": []
    },
    {
      "cell_type": "code",
      "source": [
        "def response(user_response):\n",
        "  robo1_response=''\n",
        "  TfidfVec = TfidfVectorizer(tokenizer=LemNormalize,stop_words='english')\n",
        "  tfidf = TfidfVec.fit_transform(sent_tokens)\n",
        "  vals = cosine_similarity(tfidf[-1], tfidf)\n",
        "  idx=vals.argsort()[0][-2]\n",
        "  flat = vals.flatten()\n",
        "  flat.sort()\n",
        "  req_tfidf = flat[-2]\n",
        "  if(req_tfidf==0):\n",
        "    robo1_response=robo1_response+\"I am sorry! I don't understand you\"\n",
        "    return robo1_response\n",
        "  else:\n",
        "    robo1_response = robo1_response+sent_tokens[idx]\n",
        "    return robo1_response\n"
      ],
      "metadata": {
        "id": "MKrGXsp300UO"
      },
      "execution_count": null,
      "outputs": []
    },
    {
      "cell_type": "markdown",
      "source": [
        "Defining conversation start/end protocols"
      ],
      "metadata": {
        "id": "5zksnnA_2zVG"
      }
    },
    {
      "cell_type": "code",
      "source": [
        " \n",
        "flag=True\n",
        "print(\"BOT :My name is stark. Let's have a conversation! Also, if you want to exit any time,just type Bye!\")\n",
        "while(flag==True):\n",
        "    user_response = input()\n",
        "    user_response = user_response.lower()\n",
        "    if(user_response!='bye'):\n",
        "        if(user_response=='thanks' or user_response =='thanks you'):\n",
        "          flag=False\n",
        "          print(\"BOT: You are welcome..\")\n",
        "        else:\n",
        "          if(greet(user_response)!=None):\n",
        "              print(\"BOT: \"+greet(user_response))\n",
        "          else:\n",
        "              sent_tokens.append(user_response)\n",
        "              word_tokens=word_tokens+nltk.word_tokenize(user_response)\n",
        "              final_words=list(set(word_tokens))\n",
        "              print(\"BOT: \" ,end=\"\")\n",
        "              print(response(user_response))\n",
        "              sent_tokens.remove(user_response)\n",
        "    else:\n",
        "      flag=False\n",
        "      print(\"BOT: GOODBYE! TAKE CARE <3\")\n"
      ],
      "metadata": {
        "colab": {
          "base_uri": "https://localhost:8080/"
        },
        "id": "2q5WlXap25P0",
        "outputId": "3d7b4ca1-c829-46f7-d34d-e9fb179254a1"
      },
      "execution_count": null,
      "outputs": [
        {
          "output_type": "stream",
          "name": "stdout",
          "text": [
            "BOT :My name is stark. Let's have a conversation! Also, if you want to exit any time,just type Bye!\n",
            "bye\n",
            "BOT: GOODBYE! TAKE CARE <3\n"
          ]
        }
      ]
    }
  ]
}